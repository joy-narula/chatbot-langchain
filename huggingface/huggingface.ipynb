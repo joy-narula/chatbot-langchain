{
 "cells": [
  {
   "cell_type": "code",
   "execution_count": 1,
   "metadata": {},
   "outputs": [],
   "source": [
    "from langchain_community.document_loaders import PyPDFLoader\n",
    "from langchain_community.document_loaders import PyPDFDirectoryLoader\n",
    "from langchain.text_splitter import RecursiveCharacterTextSplitter\n",
    "from langchain_community.vectorstores import FAISS\n",
    "\n",
    "from langchain_community.embeddings import HuggingFaceBgeEmbeddings\n",
    "from langchain.prompts import PromptTemplate\n",
    "\n",
    "from langchain.chains import RetrievalQA"
   ]
  },
  {
   "cell_type": "code",
   "execution_count": 3,
   "metadata": {},
   "outputs": [
    {
     "data": {
      "text/plain": [
       "62"
      ]
     },
     "execution_count": 3,
     "metadata": {},
     "output_type": "execute_result"
    }
   ],
   "source": [
    "loader = PyPDFDirectoryLoader(\"./dsa-patterns\")\n",
    "\n",
    "docs = loader.load()\n",
    "\n",
    "text_splitter = RecursiveCharacterTextSplitter(chunk_size = 1000, chunk_overlap=200)\n",
    "\n",
    "final_docs = text_splitter.split_documents(docs)\n",
    "len(final_docs)"
   ]
  },
  {
   "cell_type": "code",
   "execution_count": 5,
   "metadata": {},
   "outputs": [],
   "source": [
    "# Embeddings using HuggingFace\n",
    "\n",
    "hf_embeddings = HuggingFaceBgeEmbeddings(\n",
    "    # Other option: sentence-transformers/all-MiniLM-16-v2 \n",
    "    model_name = \"BAAI/bge-small-en-v1.5\", \n",
    "    model_kwargs = {'device': 'cpu'},\n",
    "    encode_kwargs = {'normalize_embeddings': True}\n",
    "\n",
    ")\n"
   ]
  },
  {
   "cell_type": "code",
   "execution_count": null,
   "metadata": {},
   "outputs": [],
   "source": [
    "import numpy as np\n",
    "np.array(hf_embeddings.embed_query(final_docs[0].page_content))"
   ]
  },
  {
   "cell_type": "code",
   "execution_count": 7,
   "metadata": {},
   "outputs": [],
   "source": [
    "vector_store = FAISS.from_documents(final_docs, hf_embeddings)\n"
   ]
  },
  {
   "cell_type": "code",
   "execution_count": 11,
   "metadata": {},
   "outputs": [
    {
     "name": "stdout",
     "output_type": "stream",
     "text": [
      "1.17 Top 5 Heap/Priority Queue Problems\n",
      "Num Problem Summary\n",
      "1 Meeting Rooms II LeetCode: Meeting Rooms II\n",
      "2 Task Scheduler LeetCode: Task Scheduler\n",
      "3 Last Stone Weight LeetCode: Last Stone Weight\n",
      "4 The Skyline Problem LeetCode: The Skyline Problem\n",
      "GitHub: https://github.com/dennyzhang/cheatsheet.dennyzhang.com/tree/master/cheatsheet-leetcode-A4 5 of 8\n"
     ]
    }
   ],
   "source": [
    "# Query using similarlity search\n",
    "query = \"whats the most important question from heaps\"\n",
    "relevant_docs = vector_store.similarity_search(query)\n",
    "\n",
    "print(relevant_docs[0].page_content)"
   ]
  },
  {
   "cell_type": "code",
   "execution_count": 12,
   "metadata": {},
   "outputs": [
    {
     "name": "stdout",
     "output_type": "stream",
     "text": [
      "tags=['FAISS', 'HuggingFaceBgeEmbeddings'] vectorstore=<langchain_community.vectorstores.faiss.FAISS object at 0x177c959f0> search_kwargs={'k': 3}\n"
     ]
    }
   ],
   "source": [
    "retriever = vector_store.as_retriever(search_type=\"similarity\", search_kwargs={\"k\":3})\n",
    "print(retriever)"
   ]
  },
  {
   "cell_type": "code",
   "execution_count": 14,
   "metadata": {},
   "outputs": [],
   "source": [
    "import os\n",
    "from dotenv import load_dotenv\n",
    "load_dotenv()\n",
    "\n",
    "os.environ['HUGGINGFACEHUB_API_TOKEN'] = os.getenv(\"HUGGINGFACEHUB_API_TOKEN\")\n"
   ]
  },
  {
   "cell_type": "code",
   "execution_count": 26,
   "metadata": {},
   "outputs": [
    {
     "data": {
      "text/plain": [
       "'Whats most important question from heaps of questions that I get asked is “How do I get started?”\\n\\nI’ve been asked this question so many times that I’ve decided to write a blog post about it.\\n\\nI’ve been asked this question so many times that I’ve decided to write a blog post about it.\\n\\nI’ve been asked this question so many times that I’ve decided to write a blog post about it.\\n\\nI’ve been asked this question so many'"
      ]
     },
     "execution_count": 26,
     "metadata": {},
     "output_type": "execute_result"
    }
   ],
   "source": [
    "from langchain_community.llms import HuggingFaceHub\n",
    "\n",
    "hf = HuggingFaceHub(\n",
    "    repo_id = \"mistralai/Mistral-7B-v0.1\",\n",
    "    model_kwargs = {\n",
    "        \"temperature\":0.1,\n",
    "        \"max_length\": 500\n",
    "        }\n",
    ")\n",
    "\n",
    "# Generic model response\n",
    "query = \"Whats most important question from heaps\"\n",
    "hf.invoke(query)"
   ]
  },
  {
   "cell_type": "code",
   "execution_count": null,
   "metadata": {},
   "outputs": [],
   "source": [
    "from langchain_community.llms.huggingface_pipeline import HuggingFacePipeline\n",
    "\n",
    "hf = HuggingFacePipeline.from_model_id(\n",
    "    model_id = \"mistralai/Mistral-7B-v0.1\",\n",
    "    task = \"text-generation\",\n",
    "    pipeline_kwargs = {\"temperature\": 0,\n",
    "                       \"max_new_tokens\": 300}\n",
    ")\n",
    "\n",
    "llm = hf\n",
    "llm.invoke(query)"
   ]
  },
  {
   "cell_type": "code",
   "execution_count": 35,
   "metadata": {},
   "outputs": [],
   "source": [
    "prompt_template = \"\"\"\n",
    "\n",
    "Use the following context to answer the question asked.\n",
    "Please try to provide the answer only based on the context.\n",
    "\n",
    "{context}\n",
    "Question: {question}\n",
    "\n",
    "Helpful answers:\n",
    "\"\"\""
   ]
  },
  {
   "cell_type": "code",
   "execution_count": 36,
   "metadata": {},
   "outputs": [],
   "source": [
    "prompt = PromptTemplate(template = prompt_template, input_variables = [\"context\", \"question\"])"
   ]
  },
  {
   "cell_type": "code",
   "execution_count": 37,
   "metadata": {},
   "outputs": [],
   "source": [
    "rqa = RetrievalQA.from_chain_type(\n",
    "    llm = hf,\n",
    "    chain_type = \"stuff\",\n",
    "    retriever = retriever,\n",
    "    return_source_documents = True,\n",
    "    chain_type_kwargs = {\"prompt\": prompt}\n",
    ")"
   ]
  },
  {
   "cell_type": "code",
   "execution_count": 38,
   "metadata": {},
   "outputs": [],
   "source": [
    "query = \"Whats the most important patterns\""
   ]
  },
  {
   "cell_type": "code",
   "execution_count": 39,
   "metadata": {},
   "outputs": [
    {
     "name": "stdout",
     "output_type": "stream",
     "text": [
      "\n",
      "\n",
      "Use the following context to answer the question asked.\n",
      "Please try to provide the answer only based on the context.\n",
      "\n",
      "5 \n",
      " \n",
      "https://www.youtube.com/watch?v=OgX75yqQvC0 \n",
      "LeetCode101: 20 Coding Patterns to Master \n",
      "MAANG Interviews \n",
      "Coding patterns enhance our “ability to map a new problem to an already known problem.” \n",
      "Here are the 20 coding patterns: \n",
      "1. Sliding Window \n",
      "2. Islands (Matrix Traversal) \n",
      "3. Two Pointers \n",
      "4. Fast & Slow Pointers \n",
      "5. Merge Intervals \n",
      "6. Cyclic Sort \n",
      "7. In-place Reversal of a LinkedList \n",
      "8. Tree Breadth-First Search \n",
      "9. Tree Depth First Search \n",
      "10. Two Heaps \n",
      "11. Subsets \n",
      "12. Modified Binary Search \n",
      "13. Bitwise XOR \n",
      "14. Top ‘K’ Elements \n",
      "15. K-way Merge \n",
      "16. Topological Sort \n",
      "17. Unbounded Knapsack \n",
      "18. Fibonacci Numbers \n",
      "19. Palindromic Subsequence \n",
      "20. Longest Common Substring\n",
      "\n",
      "1 \n",
      " \n",
      "https://designgurus.org/blog/top-lc-patterns \n",
      "Top LeetCode Patterns for FAANG Coding Interviews \n",
      " \n",
      "Preparing for coding interviews can be made easier by focusing on coding patterns. \n",
      " \n",
      "Every software engineer should learn coding patterns such as Sliding Window, Two Pointers, Two Heaps, \n",
      "etc. By doing so, software engineers will be able to develop the skill of “mapping a new problem to an \n",
      "existing one.” In this post, we will learn which coding patterns have the highest return on investment for \n",
      "software engineers. \n",
      " \n",
      "Grokking the Coding Interview came up with a list of 18 patterns for coding questions based on the \n",
      "similarities in the techniques needed to solve them. The course’s idea is to teach famous coding patterns so \n",
      "that once someone is familiar with a pattern, they will be able to solve dozens of problems with it. \n",
      "LeetCode Problems Distribution \n",
      "LeetCode (LC), being the largest repository of coding problems, contains more than 2k+ questions. Each\n",
      "\n",
      "3 \n",
      " \n",
      "2. Sorting (253) \n",
      "3. Greedy (248) \n",
      "4. Binary Search (186) \n",
      "5. Backtracking (91) \n",
      "6. Recursion (44) \n",
      "7. Divide and Conquer (38) \n",
      "Top Coding Patterns with Best ROI \n",
      "Here are the top coding patterns with the highest return on investment: \n",
      "1. Depth First Search (250) \n",
      "2. Breadth First Search(198) \n",
      "3. Binary Search (186) \n",
      "4. Two Pointers (147) \n",
      "5. Sliding Window (72) \n",
      "6. Monotonic Stack (44) \n",
      "7. Union Find (63) \n",
      "8. Memoization (32) \n",
      "9. Topological Sort (28) \n",
      "10. Segment Tree (27) \n",
      "Best Coding Patterns with Highest ROI \n",
      "Combining all categories from the above data, here is the list of best coding patterns/techniques with the \n",
      "highest ROI: \n",
      " \n",
      "1. Two Pointers (Arrays, Strings, Fast & Slow Pointer) \n",
      "This pattern covers a huge set of questions related to Arrays and Strings, which are the highest tagged data \n",
      "structures. Fast & Slow Pointer can be easily understood as a variation of the Two Pointers pattern. \n",
      " \n",
      "2. Sliding Window (Arrays, Strings, Hash Tables)\n",
      "Question: Whats the most important patterns\n",
      "\n",
      "Helpful answers:\n",
      "\n",
      "1. Two Pointers\n",
      "2. Sliding Window\n",
      "3. Binary Search\n",
      "4. DFS\n",
      "5. BFS\n",
      "6. Greedy\n",
      "7. DP\n",
      "8. Union Find\n",
      "9. Segment Tree\n",
      "10. Monotonic Stack\n",
      "\n",
      "\n",
      "\n",
      "\n",
      "\n",
      "\n",
      "\n",
      "\n",
      "\n",
      "\n",
      "\n",
      "\n",
      "\n",
      "\n",
      "\n",
      "\n",
      "\n",
      "\n",
      "\n",
      "\n",
      "\n",
      "\n",
      "\n",
      "\n",
      "\n",
      "\n",
      "\n",
      "\n",
      "\n",
      "\n",
      "\n",
      "\n",
      "\n",
      "\n",
      "\n",
      "\n",
      "\n",
      "\n",
      "\n",
      "\n",
      "\n"
     ]
    }
   ],
   "source": [
    "result = rqa.invoke({\"query\": query})\n",
    "print(result['result'])"
   ]
  },
  {
   "cell_type": "code",
   "execution_count": null,
   "metadata": {},
   "outputs": [],
   "source": []
  }
 ],
 "metadata": {
  "kernelspec": {
   "display_name": "Python 3",
   "language": "python",
   "name": "python3"
  },
  "language_info": {
   "codemirror_mode": {
    "name": "ipython",
    "version": 3
   },
   "file_extension": ".py",
   "mimetype": "text/x-python",
   "name": "python",
   "nbconvert_exporter": "python",
   "pygments_lexer": "ipython3",
   "version": "3.10.6"
  }
 },
 "nbformat": 4,
 "nbformat_minor": 2
}
